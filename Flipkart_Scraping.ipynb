{
  "nbformat": 4,
  "nbformat_minor": 0,
  "metadata": {
    "colab": {
      "name": "Flipkart_Scraping",
      "provenance": [],
      "authorship_tag": "ABX9TyPqEl0bGe4yqSIA2JopOJAk",
      "include_colab_link": true
    },
    "kernelspec": {
      "name": "python3",
      "display_name": "Python 3"
    },
    "language_info": {
      "name": "python"
    }
  },
  "cells": [
    {
      "cell_type": "markdown",
      "metadata": {
        "id": "view-in-github",
        "colab_type": "text"
      },
      "source": [
        "<a href=\"https://colab.research.google.com/github/vishnuraj-git/-Flipkart-WebScraping/blob/main/Flipkart_Scraping.ipynb\" target=\"_parent\"><img src=\"https://colab.research.google.com/assets/colab-badge.svg\" alt=\"Open In Colab\"/></a>"
      ]
    },
    {
      "cell_type": "code",
      "metadata": {
        "id": "Uy2hGCRteuqe"
      },
      "source": [
        "#import all packages\n",
        "import requests\n",
        "from bs4 import BeautifulSoup\n",
        "import pandas\n",
        "import time\n",
        "from IPython.display import clear_output"
      ],
      "execution_count": 14,
      "outputs": []
    },
    {
      "cell_type": "code",
      "metadata": {
        "id": "S6Jrl-a2fXS9"
      },
      "source": [
        "\n",
        "base_url ='https://www.flipkart.com/search?q=tv&as=on&as-show=on&otracker=AS_Query_TrendingAutoSuggest_7_0_na_na_na&otracker1=AS_Query_TrendingAutoSuggest_7_0_na_na_na&as-pos=7&as-type=TRENDING&suggestionId=tv&requestId=139532bd-79a7-4ac5-b298-fa22126b8e2a&page='\n",
        "Product=[]\n",
        "Price=[]\n",
        "Star=[]\n",
        "Reviews=[]\n",
        "Ratings=[]\n",
        "Specs=[]\n",
        "for i in range(1,3):\n",
        "  time.sleep(3)\n",
        "  url=base_url+str(i)\n",
        "  req=requests.get(url)\n",
        "  soup=BeautifulSoup(req.text,'html')\n",
        " \n",
        "#Product Name\n",
        "  Pname=soup.findAll('div',attrs={'class':'_4rR01T'})               \n",
        "  for i in Pname:\n",
        "    Product.append(i.text)  \n",
        "#Price\n",
        "  pr=soup.findAll('div',attrs={'class':'_30jeq3 _1_WHN1'})          \n",
        "  for i in pr:\n",
        "    Price.append(i.text) \n",
        "#Star Ratings\n",
        "  st=soup.findAll('span',attrs={'class':'_1lRcqv'})                 \n",
        "  for i in st:\n",
        "    Star.append(i.div.text)  \n",
        "#Rating & Reviews\n",
        "  rr=soup.findAll('span',attrs={'class':'_2_R_DZ'})     \n",
        "  for i in rr:\n",
        "    r=i.text.split('&')\n",
        "    Ratings.append(r[0].split(' ')[0])\n",
        "    Reviews.append(r[1].split(' ')[0].strip())  \n",
        "#Specifications\n",
        "  spec=soup.findAll('ul',attrs={'class':'_1xgFaf'})               \n",
        "  for i in spec:\n",
        "    a=i.findAll('li')\n",
        "    Specs.append([i.text for i in a])        \n"
      ],
      "execution_count": 20,
      "outputs": []
    },
    {
      "cell_type": "code",
      "metadata": {
        "id": "Q4t32bAPi6kZ"
      },
      "source": [
        "data=pandas.DataFrame({'Product_info' : Product,\n",
        "                   'Price' : Price,\n",
        "                   'star_info':Star,\n",
        "                   'Reviews': Reviews,\n",
        "                   'Ratings': Ratings,\n",
        "                   'Features':Specs\n",
        "                  })"
      ],
      "execution_count": 24,
      "outputs": []
    },
    {
      "cell_type": "code",
      "metadata": {
        "id": "bDAuZsrTmNX7"
      },
      "source": [
        "data.to_csv('Flipkart data.csv',index=False)"
      ],
      "execution_count": 25,
      "outputs": []
    }
  ]
}